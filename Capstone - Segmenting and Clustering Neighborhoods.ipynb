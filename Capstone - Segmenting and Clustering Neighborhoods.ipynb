{
    "cells": [
        {
            "cell_type": "code", 
            "execution_count": 25, 
            "source": "#installing the packages\n!pip install BeautifulSoup4\n!pip install lxml\n!pip install html5lib\n!pip install geocoder", 
            "metadata": {}, 
            "outputs": [
                {
                    "text": "Collecting BeautifulSoup4\n  Using cached https://files.pythonhosted.org/packages/21/0a/47fdf541c97fd9b6a610cb5fd518175308a7cc60569962e776ac52420387/beautifulsoup4-4.6.3-py3-none-any.whl\nInstalling collected packages: BeautifulSoup4\nSuccessfully installed BeautifulSoup4-4.6.3\n\u001b[33mTarget directory /home/spark/shared/user-libs/python3/beautifulsoup4-4.6.3.dist-info already exists. Specify --upgrade to force replacement.\u001b[0m\n\u001b[33mTarget directory /home/spark/shared/user-libs/python3/bs4 already exists. Specify --upgrade to force replacement.\u001b[0m\nCollecting lxml\n  Using cached https://files.pythonhosted.org/packages/9e/3a/32438b5b54d2c13a9be88d2718b108eb6f3eb501fc68726b9faadebae160/lxml-4.2.4-cp35-cp35m-manylinux1_x86_64.whl\nInstalling collected packages: lxml\nSuccessfully installed lxml-4.2.4\n\u001b[33mTarget directory /home/spark/shared/user-libs/python3/lxml-4.2.4.dist-info already exists. Specify --upgrade to force replacement.\u001b[0m\n\u001b[33mTarget directory /home/spark/shared/user-libs/python3/lxml already exists. Specify --upgrade to force replacement.\u001b[0m\nCollecting html5lib\n  Using cached https://files.pythonhosted.org/packages/a5/62/bbd2be0e7943ec8504b517e62bab011b4946e1258842bc159e5dfde15b96/html5lib-1.0.1-py2.py3-none-any.whl\nCollecting six>=1.9 (from html5lib)\n  Using cached https://files.pythonhosted.org/packages/67/4b/141a581104b1f6397bfa78ac9d43d8ad29a7ca43ea90a2d863fe3056e86a/six-1.11.0-py2.py3-none-any.whl\nCollecting webencodings (from html5lib)\n  Using cached https://files.pythonhosted.org/packages/f4/24/2a3e3df732393fed8b3ebf2ec078f05546de641fe1b667ee316ec1dcf3b7/webencodings-0.5.1-py2.py3-none-any.whl\nInstalling collected packages: six, webencodings, html5lib\nSuccessfully installed html5lib-1.0.1 six-1.11.0 webencodings-0.5.1\n\u001b[33mTarget directory /home/spark/shared/user-libs/python3/webencodings already exists. Specify --upgrade to force replacement.\u001b[0m\n\u001b[33mTarget directory /home/spark/shared/user-libs/python3/html5lib already exists. Specify --upgrade to force replacement.\u001b[0m\n\u001b[33mTarget directory /home/spark/shared/user-libs/python3/webencodings-0.5.1.dist-info already exists. Specify --upgrade to force replacement.\u001b[0m\n\u001b[33mTarget directory /home/spark/shared/user-libs/python3/__pycache__ already exists. Specify --upgrade to force replacement.\u001b[0m\n\u001b[33mTarget directory /home/spark/shared/user-libs/python3/html5lib-1.0.1.dist-info already exists. Specify --upgrade to force replacement.\u001b[0m\n\u001b[33mTarget directory /home/spark/shared/user-libs/python3/six.py already exists. Specify --upgrade to force replacement.\u001b[0m\n\u001b[33mTarget directory /home/spark/shared/user-libs/python3/six-1.11.0.dist-info already exists. Specify --upgrade to force replacement.\u001b[0m\nCollecting geocoder\n  Downloading https://files.pythonhosted.org/packages/4f/6b/13166c909ad2f2d76b929a4227c952630ebaf0d729f6317eb09cbceccbab/geocoder-1.38.1-py2.py3-none-any.whl (98kB)\n\u001b[K    100% |################################| 102kB 745kB/s a 0:00:01\n\u001b[?25hCollecting six (from geocoder)\n  Using cached https://files.pythonhosted.org/packages/67/4b/141a581104b1f6397bfa78ac9d43d8ad29a7ca43ea90a2d863fe3056e86a/six-1.11.0-py2.py3-none-any.whl\nCollecting future (from geocoder)\n  Downloading https://files.pythonhosted.org/packages/00/2b/8d082ddfed935f3608cc61140df6dcbf0edea1bc3ab52fb6c29ae3e81e85/future-0.16.0.tar.gz (824kB)\n\u001b[K    100% |################################| 829kB 808kB/s eta 0:00:01\n\u001b[?25hCollecting ratelim (from geocoder)\n  Downloading https://files.pythonhosted.org/packages/f2/98/7e6d147fd16a10a5f821db6e25f192265d6ecca3d82957a4fdd592cad49c/ratelim-0.1.6-py2.py3-none-any.whl\nCollecting requests (from geocoder)\n  Downloading https://files.pythonhosted.org/packages/65/47/7e02164a2a3db50ed6d8a6ab1d6d60b69c4c3fdf57a284257925dfc12bda/requests-2.19.1-py2.py3-none-any.whl (91kB)\n\u001b[K    100% |################################| 92kB 2.6MB/s eta 0:00:01\n\u001b[?25hCollecting click (from geocoder)\n  Downloading https://files.pythonhosted.org/packages/34/c1/8806f99713ddb993c5366c362b2f908f18269f8d792aff1abfd700775a77/click-6.7-py2.py3-none-any.whl (71kB)\n\u001b[K    100% |################################| 71kB 2.8MB/s eta 0:00:01\n\u001b[?25hCollecting decorator (from ratelim->geocoder)\n  Downloading https://files.pythonhosted.org/packages/bc/bb/a24838832ba35baf52f32ab1a49b906b5f82fb7c76b2f6a7e35e140bac30/decorator-4.3.0-py2.py3-none-any.whl\nCollecting certifi>=2017.4.17 (from requests->geocoder)\n  Downloading https://files.pythonhosted.org/packages/df/f7/04fee6ac349e915b82171f8e23cee63644d83663b34c539f7a09aed18f9e/certifi-2018.8.24-py2.py3-none-any.whl (147kB)\n\u001b[K    100% |################################| 153kB 2.2MB/s eta 0:00:01\n\u001b[?25hCollecting chardet<3.1.0,>=3.0.2 (from requests->geocoder)\n  Downloading https://files.pythonhosted.org/packages/bc/a9/01ffebfb562e4274b6487b4bb1ddec7ca55ec7510b22e4c51f14098443b8/chardet-3.0.4-py2.py3-none-any.whl (133kB)\n\u001b[K    100% |################################| 143kB 3.0MB/s eta 0:00:01\n\u001b[?25hCollecting idna<2.8,>=2.5 (from requests->geocoder)\n  Downloading https://files.pythonhosted.org/packages/4b/2a/0276479a4b3caeb8a8c1af2f8e4355746a97fab05a372e4a2c6a6b876165/idna-2.7-py2.py3-none-any.whl (58kB)\n\u001b[K    100% |################################| 61kB 3.3MB/s eta 0:00:01\n\u001b[?25hCollecting urllib3<1.24,>=1.21.1 (from requests->geocoder)\n  Downloading https://files.pythonhosted.org/packages/bd/c9/6fdd990019071a4a32a5e7cb78a1d92c53851ef4f56f62a3486e6a7d8ffb/urllib3-1.23-py2.py3-none-any.whl (133kB)\n\u001b[K    100% |################################| 143kB 3.1MB/s eta 0:00:01\n\u001b[?25hBuilding wheels for collected packages: future\n  Running setup.py bdist_wheel for future ... \u001b[?25ldone\n\u001b[?25h  Stored in directory: /home/spark/shared/.cache/pip/wheels/bf/c9/a3/c538d90ef17cf7823fa51fc701a7a7a910a80f6a405bf15b1a\nSuccessfully built future\nInstalling collected packages: six, future, decorator, ratelim, certifi, chardet, idna, urllib3, requests, click, geocoder\nSuccessfully installed certifi-2018.8.24 chardet-3.0.4 click-6.7 decorator-4.3.0 future-0.16.0 geocoder-1.38.1 idna-2.7 ratelim-0.1.6 requests-2.19.1 six-1.11.0 urllib3-1.23\n\u001b[33mTarget directory /home/spark/shared/user-libs/python3/__pycache__ already exists. Specify --upgrade to force replacement.\u001b[0m\n\u001b[33mTarget directory /home/spark/shared/user-libs/python3/six.py already exists. Specify --upgrade to force replacement.\u001b[0m\n\u001b[33mTarget directory /home/spark/shared/user-libs/python3/six-1.11.0.dist-info already exists. Specify --upgrade to force replacement.\u001b[0m\n", 
                    "output_type": "stream", 
                    "name": "stdout"
                }
            ]
        }, 
        {
            "cell_type": "code", 
            "execution_count": 27, 
            "source": "#loading the liberaries\nfrom bs4 import BeautifulSoup\nimport requests\nimport pandas as pd\nimport numpy as np\nimport geocoder", 
            "metadata": {}, 
            "outputs": []
        }, 
        {
            "cell_type": "code", 
            "execution_count": 28, 
            "source": "canadapostalcodes = 'https://en.wikipedia.org/wiki/List_of_postal_codes_of_Canada:_M'", 
            "metadata": {}, 
            "outputs": []
        }, 
        {
            "cell_type": "code", 
            "execution_count": 29, 
            "source": "#loading the request url\ncanadapostalcodeshtml = requests.get(canadapostalcodes).text\nsoup = BeautifulSoup(canadapostalcodeshtml,'lxml')", 
            "metadata": {}, 
            "outputs": []
        }, 
        {
            "cell_type": "code", 
            "execution_count": 30, 
            "source": "#loading the  table data\nmatched_data = soup.find_all('table', class_=\"wikitable sortable\")", 
            "metadata": {}, 
            "outputs": []
        }, 
        {
            "cell_type": "code", 
            "execution_count": 31, 
            "source": "#defining the table columns\ndf = pd.DataFrame(columns=[th.text.replace('\\n','') for th in matched_data[0].find_all('tr')[0].find_all('th')])", 
            "metadata": {}, 
            "outputs": []
        }, 
        {
            "cell_type": "code", 
            "execution_count": 32, 
            "source": "#loading the data for each column\ndf[df.columns[0]] = [tr.find_all('td')[0].text.replace('\\n','') for tr in matched_data[0].find_all('tr') if len(tr.find_all('td'))>0]\ndf[df.columns[1]] = [tr.find_all('td')[1].text.replace('\\n','') for tr in matched_data[0].find_all('tr') if len(tr.find_all('td'))>0]\ndf[df.columns[2]] = [tr.find_all('td')[2].text.replace('\\n','') for tr in matched_data[0].find_all('tr') if len(tr.find_all('td'))>0]", 
            "metadata": {}, 
            "outputs": []
        }, 
        {
            "cell_type": "code", 
            "execution_count": 33, 
            "source": "#filtering the Not assigned data and null data\ncomplete_info_df =df[(df[df.columns[0]] != 'Not assigned') & (df[df.columns[1]] != 'Not assigned') & (df[df.columns[2]] != 'Not assigned')]\ncomplete_info_df=complete_info_df.dropna()\ncomplete_info_df.reset_index(drop=True, inplace=True)\n#pd.set_option('display.max_rows', 500)", 
            "metadata": {}, 
            "outputs": []
        }, 
        {
            "cell_type": "code", 
            "execution_count": 35, 
            "source": "#merging the repeated\ncomplete_info_df=complete_info_df.groupby([complete_info_df.columns[0],complete_info_df.columns[1]], as_index=False)['Neighbourhood'].agg(','.join)", 
            "metadata": {}, 
            "outputs": []
        }, 
        {
            "cell_type": "code", 
            "execution_count": 96, 
            "source": "complete_info_df.Neighbourhood = complete_info_df.Neighbourhood.apply(lambda x: x.replace(']',''))\ncomplete_info_df.shape\n#completed assignment 1", 
            "metadata": {}, 
            "outputs": [
                {
                    "execution_count": 96, 
                    "metadata": {}, 
                    "data": {
                        "text/plain": "(102, 3)"
                    }, 
                    "output_type": "execute_result"
                }
            ]
        }, 
        {
            "cell_type": "code", 
            "execution_count": 97, 
            "source": "#geocoder.google('M1B , Scarborough , Toronto , Ontario, Canada').latlng", 
            "metadata": {}, 
            "outputs": []
        }, 
        {
            "cell_type": "code", 
            "execution_count": 169, 
            "source": "#getting the lattiude and longtidude\nlonglatlist = complete_info_df.apply(lambda x:geocoder.google('{}, {}, Toronto, Ontario'.format(x['Postcode'], x['Borough'])).latlng, axis=1)\n#longlatlist", 
            "metadata": {}, 
            "outputs": [
                {
                    "execution_count": 169, 
                    "metadata": {}, 
                    "data": {
                        "text/plain": "0                                         None\n1             [43.78453510000001, -79.1604971]\n2                                         None\n3                    [43.7709921, -79.2169174]\n4              [43.773136, -79.23947609999999]\n5                                         None\n6                                         None\n7                    [43.7111117, -79.2845772]\n8              [43.716316, -79.23947609999999]\n9                     [43.692657, -79.2648481]\n10                    [43.7574096, -79.273304]\n11                   [43.7500715, -79.2958491]\n12                   [43.7942003, -79.2620294]\n13                                        None\n14                                        None\n15                                        None\n16            [43.8361247, -79.20563609999999]\n17                                        None\n18                   [43.7785175, -79.3465557]\n19                    [43.7869473, -79.385975]\n20                                        None\n21                                        None\n22                                        None\n23            [43.7527583, -79.40004929999999]\n24                   [43.7827364, -79.4422593]\n25                   [43.7532586, -79.3296565]\n26                    [43.7459058, -79.352188]\n27                                        None\n28                   [43.7543283, -79.4422593]\n29                   [43.7679803, -79.4872619]\n30                   [43.7374732, -79.4647633]\n31                   [43.7390146, -79.5069436]\n32                   [43.7284964, -79.4956974]\n33                   [43.7616313, -79.5209994]\n34                                        None\n35                                        None\n36                   [43.6953439, -79.3183887]\n37                                        None\n38                   [43.7090604, -79.3634517]\n39                                        None\n40                    [43.685347, -79.3381065]\n41                                        None\n42                                        None\n43     [43.67797720000001, -79.50083049999999]\n44                   [43.7298549, -79.4030618]\n45                                        None\n46                                        None\n47                                        None\n48                   [43.6881862, -79.3929441]\n49                   [43.6814803, -79.3921554]\n50                   [43.6795626, -79.3775294]\n51                    [43.667967, -79.3676753]\n52                   [43.6658599, -79.3831599]\n53                                        None\n54                                        None\n55                                        None\n56            [43.6447708, -79.37330639999999]\n57                                        None\n58                                        None\n59                   [43.6408157, -79.3817523]\n60                   [43.6471768, -79.3815764]\n61                   [43.6481985, -79.3798169]\n62                                        None\n63                                        None\n64                                        None\n65                                        None\n66                                        None\n67            [43.6532057, -79.40004929999999]\n68                   [43.6289467, -79.3944199]\n69                                        None\n70                   [43.6484292, -79.3822802]\n71                    [43.718518, -79.4647633]\n72                    [43.709577, -79.4450726]\n73                                        None\n74                                        None\n75                    [43.669542, -79.4225637]\n76                   [43.6601098, -79.4332143]\n77                                        None\n78                                        None\n79            [43.7137562, -79.49007379999999]\n80            [43.6911158, -79.47601329999999]\n81                   [43.6731853, -79.4872619]\n82                                        None\n83                                        None\n84            [43.6694459, -79.46914749999999]\n85                    [43.6369656, -79.615819]\n86     [43.67797720000001, -79.50083049999999]\n87                                        None\n88                                        None\n89                   [43.6536536, -79.5069436]\n90            [43.6362579, -79.49850909999999]\n91                   [43.6288408, -79.5209994]\n92                   [43.6678556, -79.5322424]\n93                                        None\n94                   [43.6435152, -79.5772008]\n95                                        None\n96                                        None\n97                                        None\n98                    [43.696319, -79.5322424]\n99                   [43.6889054, -79.5547244]\n100                                       None\n101           [43.7067483, -79.59405439999999]\ndtype: object"
                    }, 
                    "output_type": "execute_result"
                }
            ]
        }, 
        {
            "cell_type": "code", 
            "execution_count": 172, 
            "source": "complete_info_df['LongLat'] = longlatlist", 
            "metadata": {}, 
            "outputs": []
        }, 
        {
            "cell_type": "code", 
            "execution_count": 177, 
            "source": "complete_info_df.dropna(inplace=True)", 
            "metadata": {}, 
            "outputs": []
        }, 
        {
            "cell_type": "code", 
            "execution_count": 182, 
            "source": "complete_info_df['Lontiude'] = complete_info_df.LongLat.apply(lambda x: x[1])", 
            "metadata": {}, 
            "outputs": []
        }, 
        {
            "cell_type": "code", 
            "execution_count": 183, 
            "source": "complete_info_df['Latitude'] = complete_info_df.LongLat.apply(lambda x: x[0])", 
            "metadata": {}, 
            "outputs": []
        }, 
        {
            "cell_type": "code", 
            "execution_count": 187, 
            "source": "complete_info_df.drop(columns='LongLat',inplace=True)", 
            "metadata": {}, 
            "outputs": []
        }, 
        {
            "cell_type": "code", 
            "execution_count": 188, 
            "source": "complete_info_df", 
            "metadata": {}, 
            "outputs": [
                {
                    "execution_count": 188, 
                    "metadata": {}, 
                    "data": {
                        "text/html": "<div>\n<style scoped>\n    .dataframe tbody tr th:only-of-type {\n        vertical-align: middle;\n    }\n\n    .dataframe tbody tr th {\n        vertical-align: top;\n    }\n\n    .dataframe thead th {\n        text-align: right;\n    }\n</style>\n<table border=\"1\" class=\"dataframe\">\n  <thead>\n    <tr style=\"text-align: right;\">\n      <th></th>\n      <th>Postcode</th>\n      <th>Borough</th>\n      <th>Neighbourhood</th>\n      <th>Lontiude</th>\n      <th>Latitude</th>\n    </tr>\n  </thead>\n  <tbody>\n    <tr>\n      <th>1</th>\n      <td>M1C</td>\n      <td>Scarborough</td>\n      <td>Highland Creek,Rouge Hill,Port Union</td>\n      <td>-79.160497</td>\n      <td>43.784535</td>\n    </tr>\n    <tr>\n      <th>3</th>\n      <td>M1G</td>\n      <td>Scarborough</td>\n      <td>Woburn</td>\n      <td>-79.216917</td>\n      <td>43.770992</td>\n    </tr>\n    <tr>\n      <th>4</th>\n      <td>M1H</td>\n      <td>Scarborough</td>\n      <td>Cedarbrae</td>\n      <td>-79.239476</td>\n      <td>43.773136</td>\n    </tr>\n    <tr>\n      <th>7</th>\n      <td>M1L</td>\n      <td>Scarborough</td>\n      <td>Clairlea,Golden Mile,Oakridge</td>\n      <td>-79.284577</td>\n      <td>43.711112</td>\n    </tr>\n    <tr>\n      <th>8</th>\n      <td>M1M</td>\n      <td>Scarborough</td>\n      <td>Cliffcrest,Cliffside,Scarborough Village West</td>\n      <td>-79.239476</td>\n      <td>43.716316</td>\n    </tr>\n    <tr>\n      <th>9</th>\n      <td>M1N</td>\n      <td>Scarborough</td>\n      <td>Birch Cliff,Cliffside West</td>\n      <td>-79.264848</td>\n      <td>43.692657</td>\n    </tr>\n    <tr>\n      <th>10</th>\n      <td>M1P</td>\n      <td>Scarborough</td>\n      <td>Dorset Park,Scarborough Town Centre,Wexford He...</td>\n      <td>-79.273304</td>\n      <td>43.757410</td>\n    </tr>\n    <tr>\n      <th>11</th>\n      <td>M1R</td>\n      <td>Scarborough</td>\n      <td>Maryvale,Wexford</td>\n      <td>-79.295849</td>\n      <td>43.750071</td>\n    </tr>\n    <tr>\n      <th>12</th>\n      <td>M1S</td>\n      <td>Scarborough</td>\n      <td>Agincourt</td>\n      <td>-79.262029</td>\n      <td>43.794200</td>\n    </tr>\n    <tr>\n      <th>16</th>\n      <td>M1X</td>\n      <td>Scarborough</td>\n      <td>Upper Rouge</td>\n      <td>-79.205636</td>\n      <td>43.836125</td>\n    </tr>\n    <tr>\n      <th>18</th>\n      <td>M2J</td>\n      <td>North York</td>\n      <td>Fairview,Henry Farm,Oriole</td>\n      <td>-79.346556</td>\n      <td>43.778517</td>\n    </tr>\n    <tr>\n      <th>19</th>\n      <td>M2K</td>\n      <td>North York</td>\n      <td>Bayview Village</td>\n      <td>-79.385975</td>\n      <td>43.786947</td>\n    </tr>\n    <tr>\n      <th>23</th>\n      <td>M2P</td>\n      <td>North York</td>\n      <td>York Mills West</td>\n      <td>-79.400049</td>\n      <td>43.752758</td>\n    </tr>\n    <tr>\n      <th>24</th>\n      <td>M2R</td>\n      <td>North York</td>\n      <td>Willowdale West</td>\n      <td>-79.442259</td>\n      <td>43.782736</td>\n    </tr>\n    <tr>\n      <th>25</th>\n      <td>M3A</td>\n      <td>North York</td>\n      <td>Parkwoods</td>\n      <td>-79.329656</td>\n      <td>43.753259</td>\n    </tr>\n    <tr>\n      <th>26</th>\n      <td>M3B</td>\n      <td>North York</td>\n      <td>Don Mills North</td>\n      <td>-79.352188</td>\n      <td>43.745906</td>\n    </tr>\n    <tr>\n      <th>28</th>\n      <td>M3H</td>\n      <td>North York</td>\n      <td>Bathurst Manor,Downsview North,Wilson Heights</td>\n      <td>-79.442259</td>\n      <td>43.754328</td>\n    </tr>\n    <tr>\n      <th>29</th>\n      <td>M3J</td>\n      <td>North York</td>\n      <td>Northwood Park,York University</td>\n      <td>-79.487262</td>\n      <td>43.767980</td>\n    </tr>\n    <tr>\n      <th>30</th>\n      <td>M3K</td>\n      <td>North York</td>\n      <td>CFB Toronto,Downsview East</td>\n      <td>-79.464763</td>\n      <td>43.737473</td>\n    </tr>\n    <tr>\n      <th>31</th>\n      <td>M3L</td>\n      <td>North York</td>\n      <td>Downsview West</td>\n      <td>-79.506944</td>\n      <td>43.739015</td>\n    </tr>\n    <tr>\n      <th>32</th>\n      <td>M3M</td>\n      <td>North York</td>\n      <td>Downsview Central</td>\n      <td>-79.495697</td>\n      <td>43.728496</td>\n    </tr>\n    <tr>\n      <th>33</th>\n      <td>M3N</td>\n      <td>North York</td>\n      <td>Downsview Northwest</td>\n      <td>-79.520999</td>\n      <td>43.761631</td>\n    </tr>\n    <tr>\n      <th>36</th>\n      <td>M4C</td>\n      <td>East York</td>\n      <td>Woodbine Heights</td>\n      <td>-79.318389</td>\n      <td>43.695344</td>\n    </tr>\n    <tr>\n      <th>38</th>\n      <td>M4G</td>\n      <td>East York</td>\n      <td>Leaside</td>\n      <td>-79.363452</td>\n      <td>43.709060</td>\n    </tr>\n    <tr>\n      <th>40</th>\n      <td>M4J</td>\n      <td>East York</td>\n      <td>East Toronto</td>\n      <td>-79.338106</td>\n      <td>43.685347</td>\n    </tr>\n    <tr>\n      <th>43</th>\n      <td>M4M</td>\n      <td>East Toronto</td>\n      <td>Studio District</td>\n      <td>-79.500830</td>\n      <td>43.677977</td>\n    </tr>\n    <tr>\n      <th>44</th>\n      <td>M4N</td>\n      <td>Central Toronto</td>\n      <td>Lawrence Park</td>\n      <td>-79.403062</td>\n      <td>43.729855</td>\n    </tr>\n    <tr>\n      <th>48</th>\n      <td>M4T</td>\n      <td>Central Toronto</td>\n      <td>Moore Park,Summerhill East</td>\n      <td>-79.392944</td>\n      <td>43.688186</td>\n    </tr>\n    <tr>\n      <th>49</th>\n      <td>M4V</td>\n      <td>Central Toronto</td>\n      <td>Deer Park,Forest Hill SE,Rathnelly,South Hill,...</td>\n      <td>-79.392155</td>\n      <td>43.681480</td>\n    </tr>\n    <tr>\n      <th>50</th>\n      <td>M4W</td>\n      <td>Downtown Toronto</td>\n      <td>Rosedale</td>\n      <td>-79.377529</td>\n      <td>43.679563</td>\n    </tr>\n    <tr>\n      <th>51</th>\n      <td>M4X</td>\n      <td>Downtown Toronto</td>\n      <td>Cabbagetown,St. James Town</td>\n      <td>-79.367675</td>\n      <td>43.667967</td>\n    </tr>\n    <tr>\n      <th>52</th>\n      <td>M4Y</td>\n      <td>Downtown Toronto</td>\n      <td>Church and Wellesley</td>\n      <td>-79.383160</td>\n      <td>43.665860</td>\n    </tr>\n    <tr>\n      <th>56</th>\n      <td>M5E</td>\n      <td>Downtown Toronto</td>\n      <td>Berczy Park</td>\n      <td>-79.373306</td>\n      <td>43.644771</td>\n    </tr>\n    <tr>\n      <th>59</th>\n      <td>M5J</td>\n      <td>Downtown Toronto</td>\n      <td>Harbourfront East,Toronto Islands,Union Station</td>\n      <td>-79.381752</td>\n      <td>43.640816</td>\n    </tr>\n    <tr>\n      <th>60</th>\n      <td>M5K</td>\n      <td>Downtown Toronto</td>\n      <td>Design Exchange,Toronto Dominion Centre</td>\n      <td>-79.381576</td>\n      <td>43.647177</td>\n    </tr>\n    <tr>\n      <th>61</th>\n      <td>M5L</td>\n      <td>Downtown Toronto</td>\n      <td>Commerce Court,Victoria Hotel</td>\n      <td>-79.379817</td>\n      <td>43.648198</td>\n    </tr>\n    <tr>\n      <th>67</th>\n      <td>M5T</td>\n      <td>Downtown Toronto</td>\n      <td>Chinatown,Grange Park,Kensington Market</td>\n      <td>-79.400049</td>\n      <td>43.653206</td>\n    </tr>\n    <tr>\n      <th>68</th>\n      <td>M5V</td>\n      <td>Downtown Toronto</td>\n      <td>CN Tower,Bathurst Quay,Island airport,Harbourf...</td>\n      <td>-79.394420</td>\n      <td>43.628947</td>\n    </tr>\n    <tr>\n      <th>70</th>\n      <td>M5X</td>\n      <td>Downtown Toronto</td>\n      <td>First Canadian Place,Underground city</td>\n      <td>-79.382280</td>\n      <td>43.648429</td>\n    </tr>\n    <tr>\n      <th>71</th>\n      <td>M6A</td>\n      <td>North York</td>\n      <td>Lawrence Heights,Lawrence Manor</td>\n      <td>-79.464763</td>\n      <td>43.718518</td>\n    </tr>\n    <tr>\n      <th>72</th>\n      <td>M6B</td>\n      <td>North York</td>\n      <td>Glencairn</td>\n      <td>-79.445073</td>\n      <td>43.709577</td>\n    </tr>\n    <tr>\n      <th>75</th>\n      <td>M6G</td>\n      <td>Downtown Toronto</td>\n      <td>Christie</td>\n      <td>-79.422564</td>\n      <td>43.669542</td>\n    </tr>\n    <tr>\n      <th>76</th>\n      <td>M6H</td>\n      <td>West Toronto</td>\n      <td>Dovercourt Village,Dufferin</td>\n      <td>-79.433214</td>\n      <td>43.660110</td>\n    </tr>\n    <tr>\n      <th>79</th>\n      <td>M6L</td>\n      <td>North York</td>\n      <td>Maple Leaf Park,North Park,Upwood Park</td>\n      <td>-79.490074</td>\n      <td>43.713756</td>\n    </tr>\n    <tr>\n      <th>80</th>\n      <td>M6M</td>\n      <td>York</td>\n      <td>Del Ray,Keelsdale,Mount Dennis,Silverthorn</td>\n      <td>-79.476013</td>\n      <td>43.691116</td>\n    </tr>\n    <tr>\n      <th>81</th>\n      <td>M6N</td>\n      <td>York</td>\n      <td>The Junction North,Runnymede</td>\n      <td>-79.487262</td>\n      <td>43.673185</td>\n    </tr>\n    <tr>\n      <th>84</th>\n      <td>M6S</td>\n      <td>West Toronto</td>\n      <td>Runnymede,Swansea</td>\n      <td>-79.469147</td>\n      <td>43.669446</td>\n    </tr>\n    <tr>\n      <th>85</th>\n      <td>M7R</td>\n      <td>Mississauga</td>\n      <td>Canada Post Gateway Processing Centre</td>\n      <td>-79.615819</td>\n      <td>43.636966</td>\n    </tr>\n    <tr>\n      <th>86</th>\n      <td>M7Y</td>\n      <td>East Toronto</td>\n      <td>Business reply mail Processing Centre969 Eastern</td>\n      <td>-79.500830</td>\n      <td>43.677977</td>\n    </tr>\n    <tr>\n      <th>89</th>\n      <td>M8X</td>\n      <td>Etobicoke</td>\n      <td>The Kingsway,Montgomery Road,Old Mill North</td>\n      <td>-79.506944</td>\n      <td>43.653654</td>\n    </tr>\n    <tr>\n      <th>90</th>\n      <td>M8Y</td>\n      <td>Etobicoke</td>\n      <td>Humber Bay,King's Mill Park,Kingsway Park Sout...</td>\n      <td>-79.498509</td>\n      <td>43.636258</td>\n    </tr>\n    <tr>\n      <th>91</th>\n      <td>M8Z</td>\n      <td>Etobicoke</td>\n      <td>Kingsway Park South West,Mimico NW,The Queensw...</td>\n      <td>-79.520999</td>\n      <td>43.628841</td>\n    </tr>\n    <tr>\n      <th>92</th>\n      <td>M9A</td>\n      <td>Etobicoke</td>\n      <td>Islington Avenue</td>\n      <td>-79.532242</td>\n      <td>43.667856</td>\n    </tr>\n    <tr>\n      <th>94</th>\n      <td>M9C</td>\n      <td>Etobicoke</td>\n      <td>Bloordale Gardens,Eringate,Markland Wood,Old B...</td>\n      <td>-79.577201</td>\n      <td>43.643515</td>\n    </tr>\n    <tr>\n      <th>98</th>\n      <td>M9P</td>\n      <td>Etobicoke</td>\n      <td>Westmount</td>\n      <td>-79.532242</td>\n      <td>43.696319</td>\n    </tr>\n    <tr>\n      <th>99</th>\n      <td>M9R</td>\n      <td>Etobicoke</td>\n      <td>Kingsview Village,Martin Grove Gardens,Richvie...</td>\n      <td>-79.554724</td>\n      <td>43.688905</td>\n    </tr>\n    <tr>\n      <th>101</th>\n      <td>M9W</td>\n      <td>Etobicoke</td>\n      <td>Northwest</td>\n      <td>-79.594054</td>\n      <td>43.706748</td>\n    </tr>\n  </tbody>\n</table>\n</div>", 
                        "text/plain": "    Postcode           Borough  \\\n1        M1C       Scarborough   \n3        M1G       Scarborough   \n4        M1H       Scarborough   \n7        M1L       Scarborough   \n8        M1M       Scarborough   \n9        M1N       Scarborough   \n10       M1P       Scarborough   \n11       M1R       Scarborough   \n12       M1S       Scarborough   \n16       M1X       Scarborough   \n18       M2J        North York   \n19       M2K        North York   \n23       M2P        North York   \n24       M2R        North York   \n25       M3A        North York   \n26       M3B        North York   \n28       M3H        North York   \n29       M3J        North York   \n30       M3K        North York   \n31       M3L        North York   \n32       M3M        North York   \n33       M3N        North York   \n36       M4C         East York   \n38       M4G         East York   \n40       M4J         East York   \n43       M4M      East Toronto   \n44       M4N   Central Toronto   \n48       M4T   Central Toronto   \n49       M4V   Central Toronto   \n50       M4W  Downtown Toronto   \n51       M4X  Downtown Toronto   \n52       M4Y  Downtown Toronto   \n56       M5E  Downtown Toronto   \n59       M5J  Downtown Toronto   \n60       M5K  Downtown Toronto   \n61       M5L  Downtown Toronto   \n67       M5T  Downtown Toronto   \n68       M5V  Downtown Toronto   \n70       M5X  Downtown Toronto   \n71       M6A        North York   \n72       M6B        North York   \n75       M6G  Downtown Toronto   \n76       M6H      West Toronto   \n79       M6L        North York   \n80       M6M              York   \n81       M6N              York   \n84       M6S      West Toronto   \n85       M7R       Mississauga   \n86       M7Y      East Toronto   \n89       M8X         Etobicoke   \n90       M8Y         Etobicoke   \n91       M8Z         Etobicoke   \n92       M9A         Etobicoke   \n94       M9C         Etobicoke   \n98       M9P         Etobicoke   \n99       M9R         Etobicoke   \n101      M9W         Etobicoke   \n\n                                         Neighbourhood   Lontiude   Latitude  \n1                 Highland Creek,Rouge Hill,Port Union -79.160497  43.784535  \n3                                               Woburn -79.216917  43.770992  \n4                                            Cedarbrae -79.239476  43.773136  \n7                        Clairlea,Golden Mile,Oakridge -79.284577  43.711112  \n8        Cliffcrest,Cliffside,Scarborough Village West -79.239476  43.716316  \n9                           Birch Cliff,Cliffside West -79.264848  43.692657  \n10   Dorset Park,Scarborough Town Centre,Wexford He... -79.273304  43.757410  \n11                                    Maryvale,Wexford -79.295849  43.750071  \n12                                           Agincourt -79.262029  43.794200  \n16                                         Upper Rouge -79.205636  43.836125  \n18                          Fairview,Henry Farm,Oriole -79.346556  43.778517  \n19                                     Bayview Village -79.385975  43.786947  \n23                                     York Mills West -79.400049  43.752758  \n24                                     Willowdale West -79.442259  43.782736  \n25                                           Parkwoods -79.329656  43.753259  \n26                                     Don Mills North -79.352188  43.745906  \n28       Bathurst Manor,Downsview North,Wilson Heights -79.442259  43.754328  \n29                      Northwood Park,York University -79.487262  43.767980  \n30                          CFB Toronto,Downsview East -79.464763  43.737473  \n31                                      Downsview West -79.506944  43.739015  \n32                                   Downsview Central -79.495697  43.728496  \n33                                 Downsview Northwest -79.520999  43.761631  \n36                                    Woodbine Heights -79.318389  43.695344  \n38                                             Leaside -79.363452  43.709060  \n40                                        East Toronto -79.338106  43.685347  \n43                                     Studio District -79.500830  43.677977  \n44                                       Lawrence Park -79.403062  43.729855  \n48                          Moore Park,Summerhill East -79.392944  43.688186  \n49   Deer Park,Forest Hill SE,Rathnelly,South Hill,... -79.392155  43.681480  \n50                                            Rosedale -79.377529  43.679563  \n51                          Cabbagetown,St. James Town -79.367675  43.667967  \n52                                Church and Wellesley -79.383160  43.665860  \n56                                         Berczy Park -79.373306  43.644771  \n59     Harbourfront East,Toronto Islands,Union Station -79.381752  43.640816  \n60             Design Exchange,Toronto Dominion Centre -79.381576  43.647177  \n61                       Commerce Court,Victoria Hotel -79.379817  43.648198  \n67             Chinatown,Grange Park,Kensington Market -79.400049  43.653206  \n68   CN Tower,Bathurst Quay,Island airport,Harbourf... -79.394420  43.628947  \n70               First Canadian Place,Underground city -79.382280  43.648429  \n71                     Lawrence Heights,Lawrence Manor -79.464763  43.718518  \n72                                           Glencairn -79.445073  43.709577  \n75                                            Christie -79.422564  43.669542  \n76                         Dovercourt Village,Dufferin -79.433214  43.660110  \n79              Maple Leaf Park,North Park,Upwood Park -79.490074  43.713756  \n80          Del Ray,Keelsdale,Mount Dennis,Silverthorn -79.476013  43.691116  \n81                        The Junction North,Runnymede -79.487262  43.673185  \n84                                   Runnymede,Swansea -79.469147  43.669446  \n85               Canada Post Gateway Processing Centre -79.615819  43.636966  \n86    Business reply mail Processing Centre969 Eastern -79.500830  43.677977  \n89         The Kingsway,Montgomery Road,Old Mill North -79.506944  43.653654  \n90   Humber Bay,King's Mill Park,Kingsway Park Sout... -79.498509  43.636258  \n91   Kingsway Park South West,Mimico NW,The Queensw... -79.520999  43.628841  \n92                                    Islington Avenue -79.532242  43.667856  \n94   Bloordale Gardens,Eringate,Markland Wood,Old B... -79.577201  43.643515  \n98                                           Westmount -79.532242  43.696319  \n99   Kingsview Village,Martin Grove Gardens,Richvie... -79.554724  43.688905  \n101                                          Northwest -79.594054  43.706748  "
                    }, 
                    "output_type": "execute_result"
                }
            ]
        }, 
        {
            "cell_type": "code", 
            "execution_count": 189, 
            "source": "#end of assignment 2", 
            "metadata": {}, 
            "outputs": []
        }, 
        {
            "cell_type": "code", 
            "execution_count": null, 
            "source": "", 
            "metadata": {}, 
            "outputs": []
        }
    ], 
    "nbformat_minor": 1, 
    "nbformat": 4, 
    "metadata": {
        "kernelspec": {
            "language": "python3", 
            "display_name": "Python 3.5 with Spark", 
            "name": "python3"
        }, 
        "language_info": {
            "file_extension": ".py", 
            "version": "3.5.4", 
            "mimetype": "text/x-python", 
            "nbconvert_exporter": "python", 
            "name": "python", 
            "pygments_lexer": "ipython3", 
            "codemirror_mode": {
                "version": 3, 
                "name": "ipython"
            }
        }
    }
}